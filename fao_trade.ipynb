{
 "cells": [
  {
   "cell_type": "code",
   "execution_count": 1,
   "metadata": {},
   "outputs": [],
   "source": [
    "import networkx as nx\n",
    "import pandas as pd\n",
    "from typing import List, Dict, Tuple\n",
    "import scipy as sp\n",
    "import numpy as np\n",
    "import math\n",
    "import matplotlib.pyplot as plt"
   ]
  },
  {
   "attachments": {},
   "cell_type": "markdown",
   "metadata": {},
   "source": [
    "## Data gathering and cleaning\n",
    "\n",
    "Our data is ...\n",
    "\n",
    "Source: https://networks.skewed.de/net/fao_trade"
   ]
  },
  {
   "attachments": {},
   "cell_type": "markdown",
   "metadata": {},
   "source": [
    "### Data gathering"
   ]
  },
  {
   "cell_type": "code",
   "execution_count": 2,
   "metadata": {},
   "outputs": [],
   "source": [
    "# target folder: where the data will be saved\n",
    "target = \"data/fao_trade\"\n",
    "\n",
    "# set it to True if you want to download the data\n",
    "# download_data = True\n",
    "download_data = False\n"
   ]
  },
  {
   "cell_type": "code",
   "execution_count": 3,
   "metadata": {},
   "outputs": [],
   "source": [
    "if download_data:\n",
    "\n",
    "    # data url source\n",
    "    url = \"https://networks.skewed.de/net/fao_trade/files/fao_trade.csv.zip\"\n",
    "\n",
    "    import urllib.request\n",
    "    import zipfile\n",
    "    import os\n",
    "\n",
    "    # Create the data directory\n",
    "    if not os.path.exists(\"data\"):\n",
    "        print(\"Creating data directory...\")\n",
    "        os.mkdir(\"data\")\n",
    "\n",
    "    # Download the data, unzip it and save it locally \n",
    "    print(f\"Dowloading data from {url}...\")\n",
    "    f, _ = urllib.request.urlretrieve(url)\n",
    "    print(\"Dowload OK!\")\n",
    "\n",
    "    with zipfile.ZipFile(f, 'r') as zip_ref:\n",
    "        print(\"Extracting zip file...\")\n",
    "        zip_ref.extractall(target)\n",
    "        print(\"Zip extraction OK!\")\n",
    "\n",
    "    print(f\"Operation completed! Your CSV data is available at {target}\")\n",
    "     "
   ]
  },
  {
   "attachments": {},
   "cell_type": "markdown",
   "metadata": {},
   "source": [
    "### Data extraction and cleaning"
   ]
  },
  {
   "attachments": {},
   "cell_type": "markdown",
   "metadata": {},
   "source": [
    "Our data is made by 3 CSV files, that can be extracted into two `pandas.DataFrame` and one key-value `dict`.\n",
    "\n",
    "1. `nodes` contains the list of countries and their attributes. Their only relevant attribute found in this dataset is the `name` of the country. The country name will be used as the node label.\n",
    "\n",
    "2. `edges` contains all the weighted directed edges between countries(`source` and `target`). Each edge is labeled with the `layer` of the trade, that thanks to `gprops.layer_key` could be associated to a specific commodity. The weight of the edge is the value of the trade. \n",
    "\n",
    "    Before going on, we replace all the numerical indexes with testual values (both for countries and commodities).\n",
    "\n",
    "3. `gprops` is a key-value which contains various meta-data, including the mapping between the `layer` and the commodity name.\n",
    "\n",
    "NOTE: you may observe that our data does not describe a simple graph, but a multi-graph (a pair of nodes may have more than two directed edge between them). This is due to the fact that this dataset describes the trade of more than one commodity. We will see later how to deal with this.\n",
    "\n",
    "Now we extract the data from CSV files, we clean it and then we will plot the head of the two `pandas.DataFrame` `nodes` and `edges`."
   ]
  },
  {
   "cell_type": "code",
   "execution_count": 4,
   "metadata": {},
   "outputs": [],
   "source": [
    "# --------------------------------------------------\n",
    "# Extract nodes (as dataframe)\n",
    "\n",
    "nodes = pd.read_csv(target + \"/nodes.csv\")\n",
    "nodes.columns = nodes.columns.str.replace(\" \", \"\")\n",
    "nodes.columns = nodes.columns.str.replace(\"#\", \"\")\n",
    "nodes = nodes.set_index(\"index\")\n",
    "\n",
    "# drop redundant data\n",
    "nodes = nodes.drop([\"nodeLabel\", \"_pos\"], axis=\"columns\",)\n",
    "\n",
    "# --------------------------------------------------\n",
    "# Extract edges (as dataframe)\n",
    "\n",
    "edges = pd.read_csv(target + \"/edges.csv\")\n",
    "edges.columns = edges.columns.str.replace(\" \", \"\")\n",
    "edges.columns = edges.columns.str.replace(\"#\", \"\")\n",
    "\n",
    "# --------------------------------------------------\n",
    "# Extract various graph properties (as dict)\n",
    "\n",
    "gprops_df = pd.read_csv(target + \"/gprops.csv\", on_bad_lines='skip')\n",
    "gprops_df.columns = gprops_df.columns.str.replace(\" \", \"\")\n",
    "gprops_df.columns = gprops_df.columns.str.replace(\"#\", \"\")\n",
    "\n",
    "# make a dict object out of the gprops dataframe\n",
    "gprops = gprops_df.set_index(\"prop_name\").to_dict()[\"value\"]\n",
    "\n",
    "# extract the layers keys (as a dict)\n",
    "layer_keys = {}\n",
    "for item in gprops[\"layer_key\"] \\\n",
    "    .replace(\" \", \"\").replace(\"\\n\", \"\") \\\n",
    "    .replace(\"{\", \"\").replace(\"}\", \"\") \\\n",
    "    .split(\"',\"):\n",
    "\n",
    "    keyvalue = item.split(\":'\")\n",
    "    layer_keys[int(keyvalue[0])] = keyvalue[1]\n",
    "\n",
    "gprops[\"layer_key\"] = layer_keys\n",
    "\n",
    "del layer_keys, gprops_df\n",
    "\n",
    "# --------------------------------------------------\n",
    "# replace numeric index with textual names\n",
    "\n",
    "# replace country indexes in edges\n",
    "edges[\"source\"] = edges[\"source\"].map(nodes[\"name\"])\n",
    "edges[\"target\"] = edges[\"target\"].map(nodes[\"name\"])\n",
    "\n",
    "# replace commodity indexes in edges\n",
    "edges[\"layer\"] = edges[\"layer\"].map(gprops[\"layer_key\"])\n",
    "\n",
    "# set country name as node index\n",
    "nodes = nodes.set_index(\"name\")"
   ]
  },
  {
   "cell_type": "code",
   "execution_count": 5,
   "metadata": {},
   "outputs": [
    {
     "data": {
      "text/html": [
       "<div>\n",
       "<style scoped>\n",
       "    .dataframe tbody tr th:only-of-type {\n",
       "        vertical-align: middle;\n",
       "    }\n",
       "\n",
       "    .dataframe tbody tr th {\n",
       "        vertical-align: top;\n",
       "    }\n",
       "\n",
       "    .dataframe thead th {\n",
       "        text-align: right;\n",
       "    }\n",
       "</style>\n",
       "<table border=\"1\" class=\"dataframe\">\n",
       "  <thead>\n",
       "    <tr style=\"text-align: right;\">\n",
       "      <th></th>\n",
       "    </tr>\n",
       "    <tr>\n",
       "      <th>name</th>\n",
       "    </tr>\n",
       "  </thead>\n",
       "  <tbody>\n",
       "    <tr>\n",
       "      <th>Afghanistan</th>\n",
       "    </tr>\n",
       "    <tr>\n",
       "      <th>Australia</th>\n",
       "    </tr>\n",
       "    <tr>\n",
       "      <th>Austria</th>\n",
       "    </tr>\n",
       "    <tr>\n",
       "      <th>Belgium</th>\n",
       "    </tr>\n",
       "    <tr>\n",
       "      <th>Brazil</th>\n",
       "    </tr>\n",
       "  </tbody>\n",
       "</table>\n",
       "</div>"
      ],
      "text/plain": [
       "Empty DataFrame\n",
       "Columns: []\n",
       "Index: [Afghanistan, Australia, Austria, Belgium, Brazil]"
      ]
     },
     "execution_count": 5,
     "metadata": {},
     "output_type": "execute_result"
    }
   ],
   "source": [
    "nodes.head()"
   ]
  },
  {
   "cell_type": "code",
   "execution_count": 6,
   "metadata": {},
   "outputs": [
    {
     "data": {
      "text/html": [
       "<div>\n",
       "<style scoped>\n",
       "    .dataframe tbody tr th:only-of-type {\n",
       "        vertical-align: middle;\n",
       "    }\n",
       "\n",
       "    .dataframe tbody tr th {\n",
       "        vertical-align: top;\n",
       "    }\n",
       "\n",
       "    .dataframe thead th {\n",
       "        text-align: right;\n",
       "    }\n",
       "</style>\n",
       "<table border=\"1\" class=\"dataframe\">\n",
       "  <thead>\n",
       "    <tr style=\"text-align: right;\">\n",
       "      <th></th>\n",
       "      <th>source</th>\n",
       "      <th>target</th>\n",
       "      <th>weight</th>\n",
       "      <th>layer</th>\n",
       "    </tr>\n",
       "  </thead>\n",
       "  <tbody>\n",
       "    <tr>\n",
       "      <th>0</th>\n",
       "      <td>Afghanistan</td>\n",
       "      <td>Australia</td>\n",
       "      <td>6</td>\n",
       "      <td>Food_prep_nes</td>\n",
       "    </tr>\n",
       "    <tr>\n",
       "      <th>1</th>\n",
       "      <td>Afghanistan</td>\n",
       "      <td>France</td>\n",
       "      <td>14</td>\n",
       "      <td>Food_prep_nes</td>\n",
       "    </tr>\n",
       "    <tr>\n",
       "      <th>2</th>\n",
       "      <td>Afghanistan</td>\n",
       "      <td>Pakistan</td>\n",
       "      <td>1</td>\n",
       "      <td>Food_prep_nes</td>\n",
       "    </tr>\n",
       "    <tr>\n",
       "      <th>3</th>\n",
       "      <td>Afghanistan</td>\n",
       "      <td>United_Kingdom</td>\n",
       "      <td>13</td>\n",
       "      <td>Food_prep_nes</td>\n",
       "    </tr>\n",
       "    <tr>\n",
       "      <th>4</th>\n",
       "      <td>Afghanistan</td>\n",
       "      <td>United_States_of_America</td>\n",
       "      <td>3</td>\n",
       "      <td>Food_prep_nes</td>\n",
       "    </tr>\n",
       "  </tbody>\n",
       "</table>\n",
       "</div>"
      ],
      "text/plain": [
       "        source                    target  weight          layer\n",
       "0  Afghanistan                 Australia       6  Food_prep_nes\n",
       "1  Afghanistan                    France      14  Food_prep_nes\n",
       "2  Afghanistan                  Pakistan       1  Food_prep_nes\n",
       "3  Afghanistan            United_Kingdom      13  Food_prep_nes\n",
       "4  Afghanistan  United_States_of_America       3  Food_prep_nes"
      ]
     },
     "execution_count": 6,
     "metadata": {},
     "output_type": "execute_result"
    }
   ],
   "source": [
    "edges.head()"
   ]
  },
  {
   "cell_type": "code",
   "execution_count": 7,
   "metadata": {},
   "outputs": [
    {
     "data": {
      "text/html": [
       "<div>\n",
       "<style scoped>\n",
       "    .dataframe tbody tr th:only-of-type {\n",
       "        vertical-align: middle;\n",
       "    }\n",
       "\n",
       "    .dataframe tbody tr th {\n",
       "        vertical-align: top;\n",
       "    }\n",
       "\n",
       "    .dataframe thead th {\n",
       "        text-align: right;\n",
       "    }\n",
       "</style>\n",
       "<table border=\"1\" class=\"dataframe\">\n",
       "  <thead>\n",
       "    <tr style=\"text-align: right;\">\n",
       "      <th></th>\n",
       "      <th>source</th>\n",
       "      <th>target</th>\n",
       "      <th>weight</th>\n",
       "      <th>layer</th>\n",
       "    </tr>\n",
       "  </thead>\n",
       "  <tbody>\n",
       "    <tr>\n",
       "      <th>0</th>\n",
       "      <td>Afghanistan</td>\n",
       "      <td>Australia</td>\n",
       "      <td>6</td>\n",
       "      <td>Food_prep_nes</td>\n",
       "    </tr>\n",
       "    <tr>\n",
       "      <th>18</th>\n",
       "      <td>Afghanistan</td>\n",
       "      <td>Australia</td>\n",
       "      <td>1</td>\n",
       "      <td>Flour,_wheat</td>\n",
       "    </tr>\n",
       "    <tr>\n",
       "      <th>27</th>\n",
       "      <td>Afghanistan</td>\n",
       "      <td>Australia</td>\n",
       "      <td>8</td>\n",
       "      <td>Crude_materials</td>\n",
       "    </tr>\n",
       "    <tr>\n",
       "      <th>47</th>\n",
       "      <td>Afghanistan</td>\n",
       "      <td>Australia</td>\n",
       "      <td>8</td>\n",
       "      <td>Fruit,_prepared_nes</td>\n",
       "    </tr>\n",
       "    <tr>\n",
       "      <th>141</th>\n",
       "      <td>Afghanistan</td>\n",
       "      <td>Australia</td>\n",
       "      <td>2</td>\n",
       "      <td>Nuts,_prepared_(exc._groundnuts)</td>\n",
       "    </tr>\n",
       "    <tr>\n",
       "      <th>185</th>\n",
       "      <td>Afghanistan</td>\n",
       "      <td>Australia</td>\n",
       "      <td>3</td>\n",
       "      <td>Sugar_confectionery</td>\n",
       "    </tr>\n",
       "    <tr>\n",
       "      <th>211</th>\n",
       "      <td>Afghanistan</td>\n",
       "      <td>Australia</td>\n",
       "      <td>33</td>\n",
       "      <td>Raisins</td>\n",
       "    </tr>\n",
       "  </tbody>\n",
       "</table>\n",
       "</div>"
      ],
      "text/plain": [
       "          source     target  weight                             layer\n",
       "0    Afghanistan  Australia       6                     Food_prep_nes\n",
       "18   Afghanistan  Australia       1                      Flour,_wheat\n",
       "27   Afghanistan  Australia       8                   Crude_materials\n",
       "47   Afghanistan  Australia       8               Fruit,_prepared_nes\n",
       "141  Afghanistan  Australia       2  Nuts,_prepared_(exc._groundnuts)\n",
       "185  Afghanistan  Australia       3               Sugar_confectionery\n",
       "211  Afghanistan  Australia      33                           Raisins"
      ]
     },
     "execution_count": 7,
     "metadata": {},
     "output_type": "execute_result"
    }
   ],
   "source": [
    "# show that there is more than one layer\n",
    "edges[\n",
    "    edges[\"source\"].isin(['Afghanistan']) &\n",
    "    edges[\"target\"].isin(['Australia'])\n",
    "]"
   ]
  },
  {
   "cell_type": "code",
   "execution_count": 8,
   "metadata": {},
   "outputs": [
    {
     "data": {
      "text/plain": [
       "364"
      ]
     },
     "execution_count": 8,
     "metadata": {},
     "output_type": "execute_result"
    }
   ],
   "source": [
    "# number of layers\n",
    "len(edges[\"layer\"].unique())"
   ]
  },
  {
   "attachments": {},
   "cell_type": "markdown",
   "metadata": {},
   "source": [
    "## Graph building\n",
    "\n",
    "Here, in this section, we will build the graph from the data extracted in the previous section. We will also propose some solutions to deal the multi-layer problem."
   ]
  },
  {
   "attachments": {},
   "cell_type": "markdown",
   "metadata": {},
   "source": [
    "### Deal the multi-layer problem\n",
    "\n",
    "We propose three approaches to deal with the multi-layer problem:\n",
    "\n",
    "1. First approach is a naive \"filter and merge\". If we are interested in analizing how the global trade works for some commodities, we can simply\n",
    "   1. select only the edges that are related to the commodities we are interested in\n",
    "   2. aggregate them by summing the weights of the edges between the same pair of nodes\n",
    "\n",
    "    This way we obtain an unique aggregated directed and weighted graph, where each pair of nodes has at most two directed edges between them (one for each direction).\n",
    "\n",
    "    If we are interested in analizing how the global trade works for all the commodities, we can simply keep all the edges and aggregate them.\n",
    "\n",
    "2. Second approach is to build more graphs and then compare them. This approach may be useful if we want to compare differet commodities trades. Comparison may be done:\n",
    "   1. comparing (normalized) topological and centrality indexes (also consiedering distribution)\n",
    "   2. comparing different meso-scale structures with correlation indexes\n",
    "   3. making visual comparison between matrixes plots\n",
    "\n",
    "    We can also combine this approach with the first one to compare several \"subsets\" of the global trade.\n",
    "\n",
    "3. Third approach is more peculiar. As discussed in https://www.nature.com/articles/ncomms7864, in a multi-layer graph, some layers are more similar or dissimilar than others; for this reason, aggregating dissimilar layer may introduce artificial structures that may be misleading. For this reason the article proposes an information theory based method to aggregate several layers withouth loosing too much information. Briefly, the article implement a sort of hierarchical clustering on the layers, where at each step you aggregate layers with similar import-export paths.\n",
    "\n",
    "    This approach permits to obtain a smaller subset of relevant aggregated layers, that can be used to build a smaller number or comparable graphs.\n",
    "\n",
    "In this notebook we will implement the first approach on the whole dataset. Then we will select some sample layers to make some comparisons."
   ]
  },
  {
   "attachments": {},
   "cell_type": "markdown",
   "metadata": {},
   "source": [
    "### Build layers graphs\n",
    "\n",
    "We start building a graph foreach layer. Then we also implement a function to merge graphs."
   ]
  },
  {
   "cell_type": "code",
   "execution_count": 9,
   "metadata": {},
   "outputs": [],
   "source": [
    "# extract the layers graphs \n",
    "def create_layers_graphs(edges: pd.DataFrame) -> Dict[str, nx.DiGraph]:\n",
    "    \"\"\"\n",
    "    Create a dict of all graphs, one for each layer\n",
    "    \"\"\"\n",
    "\n",
    "    layers_m = {}\n",
    "    for layer in edges[\"layer\"].unique():\n",
    "        layers_m[layer] = nx.from_pandas_edgelist(\n",
    "            edges[edges[\"layer\"] == layer],\n",
    "            source=\"source\",\n",
    "            target=\"target\",\n",
    "            edge_attr=\"weight\",\n",
    "            create_using=nx.DiGraph\n",
    "        )\n",
    "    return layers_m\n",
    "\n",
    "layers_g = create_layers_graphs(edges)"
   ]
  },
  {
   "cell_type": "code",
   "execution_count": 10,
   "metadata": {},
   "outputs": [],
   "source": [
    "def merge_weighted_graphs(G, H):\n",
    "    \"\"\"\n",
    "    Merge two weighted graphs summing the weights of the edges in common.\n",
    "    \"\"\"\n",
    "\n",
    "    g = nx.compose(G, H)\n",
    "    edge_data = { e: G.edges[e]['weight'] + H.edges[e]['weight'] for e in G.edges & H.edges }\n",
    "    nx.set_edge_attributes(g, edge_data, 'weight')\n",
    "    return g\n",
    "\n",
    "# merge all layers into a single graph\n",
    "layers_names = list(layers_g.keys())\n",
    "all_layers_g = layers_g[layers_names[0]]\n",
    "for layer in layers_names[1:]:\n",
    "    all_layers_g = merge_weighted_graphs(all_layers_g, layers_g[layer])\n"
   ]
  },
  {
   "attachments": {},
   "cell_type": "markdown",
   "metadata": {},
   "source": [
    "## Analysis on the whole dataset graph\n",
    "\n",
    "Now we perform an analysis on the whole dataset graph (the one where all the layers are aggregated). \n",
    "\n",
    "This analaysis includes:\n",
    "- an overview of the graph, with some simple topological indexes\n",
    "- a calculation of some centrality indexes, an analysis of their distribution and a comparison between them\n",
    "- ..."
   ]
  },
  {
   "attachments": {},
   "cell_type": "markdown",
   "metadata": {},
   "source": [
    "### Graph overview\n",
    "\n",
    "With what kind of graph are we dealing with? Is it dense or is it sparse? Is it (strongly/weakly) connected?"
   ]
  },
  {
   "cell_type": "code",
   "execution_count": 160,
   "metadata": {},
   "outputs": [
    {
     "name": "stdout",
     "output_type": "stream",
     "text": [
      "Nr. of nodes (Size): 214\n",
      "Nr. of directed edges (Volume): 13736\n",
      "Total weight of directed edges: 1109494817\n",
      "Density: 13671.8131\n"
     ]
    }
   ],
   "source": [
    "# general graph properties\n",
    "topological = {}\n",
    "\n",
    "topological[\"n\"] = len(all_layers_g.nodes)\n",
    "topological[\"m\"] = len(all_layers_g.edges)\n",
    "topological[\"tot_weight\"] = sum([all_layers_g.edges[e]['weight'] for e in all_layers_g.edges])\n",
    "topological[\"density\"] = topological[\"m\"]/topological[\"n\"]*(topological[\"n\"]-1)\n",
    "\n",
    "print(f\"Nr. of nodes (Size): {topological['n']}\")\n",
    "print(f\"Nr. of directed edges (Volume): {topological['m']}\")\n",
    "print(f\"Total weight of directed edges: {topological['tot_weight']}\")\n",
    "print(f\"Density: {round(topological['density'], 4)}\")\n"
   ]
  },
  {
   "cell_type": "code",
   "execution_count": 161,
   "metadata": {},
   "outputs": [
    {
     "name": "stdout",
     "output_type": "stream",
     "text": [
      "Weakly connected:  True\n",
      "Strongly connected:  False\n"
     ]
    }
   ],
   "source": [
    "# Check if graph is connected\n",
    "topological[\"weakly_connected\"] = nx.is_weakly_connected(all_layers_g)\n",
    "topological[\"strongly_connected\"] = nx.is_strongly_connected(all_layers_g)\n",
    "\n",
    "print(\"Weakly connected: \", topological[\"weakly_connected\"])\n",
    "print(\"Strongly connected: \", topological[\"strongly_connected\"])"
   ]
  },
  {
   "cell_type": "code",
   "execution_count": 163,
   "metadata": {},
   "outputs": [
    {
     "name": "stdout",
     "output_type": "stream",
     "text": [
      "Nr. of SCC with 1 nodes: 81\n",
      "Nr. of SCC with 133 nodes: 1\n",
      "133/214 (62.0%) nodes are in the largest SCC\n"
     ]
    }
   ],
   "source": [
    "# Find SCC and their sizes \n",
    "scc = nx.strongly_connected_components(all_layers_g)\n",
    "\n",
    "scc_sizes = [len(c) for c in sorted(scc, key=len, reverse=True)]\n",
    "\n",
    "unique, counts = np.unique(scc_sizes, return_counts=True)\n",
    "\n",
    "for u, c in zip(unique, counts):\n",
    "    print(f\"Nr. of SCC with {u} nodes: {c}\")\n",
    "\n",
    "\n",
    "print(f\"{scc_sizes[0]}/{topological['n']} ({round(scc_sizes[0]/topological['n'], 2)*100}%) nodes are in the largest SCC\")"
   ]
  },
  {
   "attachments": {},
   "cell_type": "markdown",
   "metadata": {},
   "source": [
    "### Centrality indexes (pt. 1 - Friedman centralities) \n",
    "\n",
    "Which are the main nodes of the graph? Which are the main countries in the global trade (according to various measures)? What is the distribution of the centrality indexes? Is there any correlation between them? Which topological features may we derive from the centrality indexes?"
   ]
  },
  {
   "cell_type": "code",
   "execution_count": 47,
   "metadata": {},
   "outputs": [],
   "source": [
    "# init a dataframe where I store all the centralities\n",
    "centralities = pd.DataFrame(index=all_layers_g.nodes)"
   ]
  },
  {
   "cell_type": "code",
   "execution_count": 156,
   "metadata": {},
   "outputs": [],
   "source": [
    "# degree centrality\n",
    "centralities[\"in_degree\"] = dict(all_layers_g.in_degree)\n",
    "centralities[\"out_degree\"] = dict(all_layers_g.out_degree)\n",
    "\n",
    "# streght centrality (weighted degree)\n",
    "centralities[\"in_strenght\"] = dict(all_layers_g.in_degree(weight='weight'))\n",
    "centralities[\"out_strenght\"] = dict(all_layers_g.out_degree(weight='weight'))\n",
    "\n",
    "# calculate difference between in and out strenght\n",
    "centralities[\"out - in\"] = centralities[\"out_strenght\"] - centralities[\"in_strenght\"]"
   ]
  },
  {
   "cell_type": "code",
   "execution_count": 71,
   "metadata": {},
   "outputs": [],
   "source": [
    "# Calculate all the distances between nodes (ignoring weights)\n",
    "dist = nx.floyd_warshall(all_layers_g, weight=None)"
   ]
  },
  {
   "cell_type": "code",
   "execution_count": 164,
   "metadata": {},
   "outputs": [],
   "source": [
    "# Calculate closeness using distances\n",
    "\n",
    "def calculate_all_closeness(distances: Dict[str, Dict[str, float]], n: int) \\\n",
    "    -> Tuple[Dict[str, float], Dict[str, float], Dict[str, float]]:\n",
    "    \"\"\"Calculate one-shot all the closeness centrality measures \n",
    "    (standard, excluding non reachable nodes, harmonic), given\n",
    "    the distances between nodes.\"\"\"\n",
    "\n",
    "    closeness = {}\n",
    "    closeness_excluding_non_reachable = {}\n",
    "    harmonic_closeness = {}\n",
    "\n",
    "    for node in all_layers_g.nodes:\n",
    "\n",
    "        node_dist = 0\n",
    "        node_dist_excluding_non_reachable = 0\n",
    "        harmonic_closeness[node] = 0\n",
    "\n",
    "        # calculate sum of distances for this node \n",
    "        for other_node in all_layers_g.nodes:\n",
    "            if node != other_node:\n",
    "                \n",
    "                harmonic_closeness[node] += 1/dist[node][other_node]\n",
    "                node_dist += dist[node][other_node]\n",
    "\n",
    "                if dist[node][other_node] != np.inf:\n",
    "                    node_dist_excluding_non_reachable += dist[node][other_node]\n",
    "\n",
    "        # calculate closeness for this node\n",
    "        closeness[node] = (n-1)/node_dist\n",
    "        closeness_excluding_non_reachable[node] = (n-1)/node_dist_excluding_non_reachable\n",
    "        harmonic_closeness[node] = harmonic_closeness[node]/(n-1)\n",
    "\n",
    "    return closeness, closeness_excluding_non_reachable, harmonic_closeness\n",
    "\n",
    "\n",
    "centralities[\"closeness\"],  \\\n",
    "centralities[\"closeness_excl_non_reachable\"], \\\n",
    "centralities[\"harmonic_closeness\"] = calculate_all_closeness(dist, topological[\"n\"])"
   ]
  },
  {
   "cell_type": "code",
   "execution_count": 128,
   "metadata": {},
   "outputs": [],
   "source": [
    "# Calculate betweenness centrality\n",
    "centralities[\"betweenness\"] = nx.betweenness_centrality(all_layers_g)"
   ]
  },
  {
   "attachments": {},
   "cell_type": "markdown",
   "metadata": {},
   "source": [
    "We have built a dataset with some centrality indexes. What we can do now is:\n",
    "\n",
    "1. select the top K countries, according to each centrality index\n",
    "2. plot some distributions (expecially on degree and strength)\n",
    "3. derive some topological features (we will do it later )\n",
    "4. measure correlation between the centrality indexes (we will do it later when we will have more centrality indexes)\n",
    "\n",
    "\n"
   ]
  },
  {
   "cell_type": "code",
   "execution_count": 153,
   "metadata": {},
   "outputs": [],
   "source": [
    "# def. a function to plot top K countries for a centrality measure\n",
    "\n",
    "# build a color map for the countries\n",
    "cmap = plt.get_cmap('twilight')\n",
    "colors_vec = cmap(np.linspace(0, 1, len(centralities.index)))\n",
    "colors = pd.Series({ node: colors_vec[i] for i, node in enumerate(centralities.index) })\n",
    "\n",
    "def plot_top_k_centralities(centralities: pd.DataFrame, k: int, centrality_name: str):\n",
    "    \"\"\"\n",
    "    Plot the top k countries by a centrality measure in a bar chart (using a color scale)\n",
    "    \"\"\"\n",
    "\n",
    "    top_k = centralities.sort_values(by=centrality_name, ascending=False).head(k)\n",
    "\n",
    "    c = colors.loc[top_k.index]\n",
    " \n",
    "    plt.bar(top_k.index, top_k[centrality_name], color=c)\n",
    "    plt.xticks(rotation=90)\n",
    "    plt.title(f\"Top {k} countries \\nby {centrality_name}\", fontsize=12)\n",
    "    plt.tight_layout()"
   ]
  },
  {
   "cell_type": "code",
   "execution_count": 154,
   "metadata": {},
   "outputs": [
    {
     "data": {
      "image/png": "[encoded data removed]",
      "text/plain": [
       "<Figure size 640x480 with 2 Axes>"
      ]
     },
     "metadata": {},
     "output_type": "display_data"
    }
   ],
   "source": [
    "# top 10 in and out degree\n",
    "plt.subplot(1, 2, 1)\n",
    "plot_top_k_centralities(centralities, 10, \"in_degree\")\n",
    "\n",
    "plt.subplot(1, 2, 2)\n",
    "plot_top_k_centralities(centralities, 10, \"out_degree\")\n",
    "\n",
    "plt.show()"
   ]
  },
  {
   "cell_type": "code",
   "execution_count": 157,
   "metadata": {},
   "outputs": [
    {
     "data": {
      "image/png": "[encoded data removed]",
      "text/plain": [
       "<Figure size 640x480 with 3 Axes>"
      ]
     },
     "metadata": {},
     "output_type": "display_data"
    }
   ],
   "source": [
    "# top 10 in and out strenght (+ difference)\n",
    "plt.subplot(1, 3, 1)\n",
    "plot_top_k_centralities(centralities, 10, \"in_strenght\")\n",
    "\n",
    "plt.subplot(1, 3, 2)\n",
    "plot_top_k_centralities(centralities, 10, \"out_strenght\")\n",
    "\n",
    "plt.subplot(1, 3, 3)\n",
    "plot_top_k_centralities(centralities, 10, \"out - in\")\n",
    "\n",
    "plt.show()"
   ]
  },
  {
   "cell_type": "code",
   "execution_count": 167,
   "metadata": {},
   "outputs": [
    {
     "data": {
      "image/png": "[encoded data removed]",
      "text/plain": [
       "<Figure size 640x480 with 3 Axes>"
      ]
     },
     "metadata": {},
     "output_type": "display_data"
    }
   ],
   "source": [
    "# top 10 closeness and betweenness\n",
    "plt.subplot(1, 3, 1)\n",
    "plot_top_k_centralities(centralities, 10, \"closeness_excl_non_reachable\")\n",
    "\n",
    "plt.subplot(1, 3, 2)\n",
    "plot_top_k_centralities(centralities, 10, \"harmonic_closeness\")\n",
    "\n",
    "plt.subplot(1, 3, 3)\n",
    "plot_top_k_centralities(centralities, 10, \"betweenness\")\n",
    "\n",
    "plt.show()"
   ]
  },
  {
   "cell_type": "code",
   "execution_count": 168,
   "metadata": {},
   "outputs": [
    {
     "data": {
      "text/plain": [
       "count    214.0\n",
       "mean       0.0\n",
       "std        0.0\n",
       "min        0.0\n",
       "25%        0.0\n",
       "50%        0.0\n",
       "75%        0.0\n",
       "max        0.0\n",
       "Name: closeness, dtype: float64"
      ]
     },
     "execution_count": 168,
     "metadata": {},
     "output_type": "execute_result"
    }
   ],
   "source": [
    "# (NOTE: we can observe that all closeness are 0 because the graph is not connected)\n",
    "centralities[\"closeness\"].describe()"
   ]
  },
  {
   "cell_type": "code",
   "execution_count": 177,
   "metadata": {},
   "outputs": [
    {
     "name": "stdout",
     "output_type": "stream",
     "text": [
      "Max in degree:  184\n",
      "Avg in degree:  64.18691588785046\n",
      "Max out degree:  133\n",
      "Avg out degree:  64.18691588785046\n",
      "Max in strenght:  91670308\n",
      "Avg in strenght:  5184555.219626168\n",
      "Max out strenght:  130060548\n",
      "Avg out strenght:  5184555.219626168\n",
      "Max distance (Diameter) excluding infty:  3.0\n",
      "Avg distance  excluding infty:  1.508566023193077\n"
     ]
    }
   ],
   "source": [
    "# given the centralities, we may derive some topological measures\n",
    "\n",
    "# calculate max and average degree\n",
    "topological[\"max_in_degree\"] = max(centralities[\"in_degree\"])\n",
    "topological[\"avg_in_degree\"] = np.mean(centralities[\"in_degree\"])\n",
    "topological[\"max_out_degree\"] = max(centralities[\"out_degree\"])\n",
    "topological[\"avg_out_degree\"] = np.mean(centralities[\"out_degree\"])\n",
    "\n",
    "# calculate max and average strenghs\n",
    "topological[\"max_in_strenght\"] = max(centralities[\"in_strenght\"])\n",
    "topological[\"avg_in_strenght\"] = np.mean(centralities[\"in_strenght\"])\n",
    "topological[\"max_out_strenght\"] = max(centralities[\"out_strenght\"])\n",
    "topological[\"avg_out_strenght\"] = np.mean(centralities[\"out_strenght\"])\n",
    "\n",
    "# calculate the diameter and the average distance\n",
    "non_infty_dist = [d for node in dist.keys() for d in dist[node].values()  if d != np.inf]\n",
    "topological[\"diameter\"] = max(non_infty_dist)\n",
    "topological[\"avg_distance\"] = np.mean(non_infty_dist)\n",
    "\n",
    "\n",
    "print(\"Max in degree: \", topological[\"max_in_degree\"])\n",
    "print(\"Avg in degree: \", topological[\"avg_in_degree\"])\n",
    "print(\"Max out degree: \", topological[\"max_out_degree\"])\n",
    "print(\"Avg out degree: \", topological[\"avg_out_degree\"])\n",
    "print(\"Max in strenght: \", topological[\"max_in_strenght\"])\n",
    "print(\"Avg in strenght: \", topological[\"avg_in_strenght\"])\n",
    "print(\"Max out strenght: \", topological[\"max_out_strenght\"])\n",
    "print(\"Avg out strenght: \", topological[\"avg_out_strenght\"])\n",
    "print(\"Max distance (Diameter) excluding infty: \", topological[\"diameter\"])\n",
    "print(\"Avg distance  excluding infty: \", topological[\"avg_distance\"])\n"
   ]
  },
  {
   "attachments": {},
   "cell_type": "markdown",
   "metadata": {},
   "source": [
    "### Centrality indexes (pt. 2 - Clustering) \n",
    "\n",
    "What are the clustering coefficients of the network? How do they change if we consieder mutual relationships only?"
   ]
  },
  {
   "cell_type": "code",
   "execution_count": 207,
   "metadata": {},
   "outputs": [
    {
     "name": "stdout",
     "output_type": "stream",
     "text": [
      "Watts-Strogatz clustering:  0.8124991062175767\n",
      "Watts-Strogatz clustering (mutual only):  0.5037041933256556\n",
      "Newmann clustering:  0.7003534377654634\n",
      "Newmann clustering (mutual only):  0.6928302663632101\n"
     ]
    }
   ],
   "source": [
    "# calculate nodes clustering coefficients\n",
    "undir_g = all_layers_g.to_undirected()\n",
    "undir_g_mutual_only = all_layers_g.to_undirected(reciprocal=True)\n",
    "\n",
    "# calculate nodes clustering coefficients\n",
    "centralities[\"clustering\"] = nx.clustering(undir_g)\n",
    "centralities[\"clustering_mutual_only\"] = nx.clustering(undir_g_mutual_only)\n",
    "\n",
    "# calculate Watts-Strogatz clustering coefficient\n",
    "topological[\"watts_strogatz_clustering\"] = np.mean(centralities[\"clustering\"])\n",
    "topological[\"watts_strogatz_clustering_mutual_only\"] = np.mean(centralities[\"clustering_mutual_only\"])\n",
    "\n",
    "# calculate Newman clustering coefficient\n",
    "def newmann_clustering(g: nx.Graph):\n",
    "\n",
    "    # calculate actual triangles in the graph\n",
    "    # (do not count the same triangle 3 times)\n",
    "    n_triangles = sum(nx.triangles(g).values())/3 \n",
    "    \n",
    "    # calculate max # of triangles in the graph\n",
    "    max_n_triangles = 0\n",
    "    for node_degree in dict(g.degree()).values():\n",
    "        max_n_triangles += node_degree*(node_degree-1)\n",
    "  \n",
    "    max_n_triangles /= 2    # do not couunt undirected paths twice\n",
    "    max_n_triangles /= 3   # do not count the same triangle 3 times\n",
    "\n",
    "    return n_triangles/max_n_triangles\n",
    "\n",
    "topological[\"newmann_clustering\"] = newmann_clustering(undir_g)\n",
    "topological[\"newmann_clustering_mutual_only\"] = newmann_clustering(undir_g_mutual_only)\n",
    "\n",
    "print(\"Watts-Strogatz clustering: \", topological[\"watts_strogatz_clustering\"])\n",
    "print(\"Watts-Strogatz clustering (mutual only): \", topological[\"watts_strogatz_clustering_mutual_only\"])\n",
    "print(\"Newmann clustering: \", topological[\"newmann_clustering\"])\n",
    "print(\"Newmann clustering (mutual only): \", topological[\"newmann_clustering_mutual_only\"])"
   ]
  },
  {
   "cell_type": "code",
   "execution_count": 218,
   "metadata": {},
   "outputs": [
    {
     "name": "stdout",
     "output_type": "stream",
     "text": [
      "Expected vs actual avg in degree:\t 63.89 64.19\n",
      "Expected vs actual avg out degree:\t 63.89 64.19\n",
      "Expected vs actual avg distance:\t 1.29 1.51\n",
      "Expected vs actual Watts-Strogatz clustering:\t\t\t 0.3 0.81\n",
      "Expected vs actual Watts-Strogatz clustering (mutual only):\t 0.3 0.5\n",
      "Expected vs actual Newmann clustering:\t\t\t\t 0.3 0.7\n",
      "Expected vs actual Newmann clustering (mutual only):\t\t 0.3 0.69\n"
     ]
    }
   ],
   "source": [
    "\n"
   ]
  },
  {
   "attachments": {},
   "cell_type": "markdown",
   "metadata": {},
   "source": [
    "### Centrality indexes (pt. 3 - Spectral Indexes and Random Walks) "
   ]
  },
  {
   "cell_type": "code",
   "execution_count": 223,
   "metadata": {},
   "outputs": [
    {
     "data": {
      "text/plain": [
       "False"
      ]
     },
     "execution_count": 223,
     "metadata": {},
     "output_type": "execute_result"
    }
   ],
   "source": [
    "A = nx.adjacency_matrix(all_layers_g).todense()\n",
    "np.all(A > 0)"
   ]
  },
  {
   "cell_type": "code",
   "execution_count": 225,
   "metadata": {},
   "outputs": [
    {
     "name": "stdout",
     "output_type": "stream",
     "text": [
      "Spectral ratio:  33708163.19482666\n",
      "Is spectral ratio an eigenvalue? True\n",
      "Is spectral ratio dominant? False\n",
      "Is spectral ratio simple? True\n"
     ]
    }
   ],
   "source": [
    "# calculate eigenvalues and Spectral Ratio\n",
    "eigvals = np.linalg.eigvals(A)\n",
    "eigvals_abs = np.abs(eigvals)\n",
    "topological[\"spectral_ratio\"] = max(eigvals_abs)\n",
    "\n",
    "print(\"Spectral ratio: \", topological[\"spectral_ratio\"])\n",
    "print(\"Is spectral ratio an eigenvalue?\", topological[\"spectral_ratio\"] in eigvals)\n",
    "print(\"Is spectral ratio dominant?\", topological[\"spectral_ratio\"] > max(eigvals_abs[1:]))\n",
    "print(\"Is spectral ratio simple?\", list(eigvals).count(topological[\"spectral_ratio\"]) == 1)"
   ]
  },
  {
   "attachments": {},
   "cell_type": "markdown",
   "metadata": {},
   "source": [
    "NOTES:\n",
    "- `A` is not `> 0`, so Perron theorem does not apply\n",
    "- `A` is reducible (associated graph is not strongly connected), so neither Frobenius applies\n",
    "- spectral ratio is an eigevalue but is not dominant, so Power Method does not necessarily converge"
   ]
  },
  {
   "cell_type": "code",
   "execution_count": 226,
   "metadata": {},
   "outputs": [
    {
     "data": {
      "text/plain": [
       "{'Afghanistan': 0.0020895650097348976,\n",
       " 'Australia': 0.009141143505640282,\n",
       " 'France': 0.034974793478973115,\n",
       " 'Pakistan': 0.004847377302790281,\n",
       " 'United_Kingdom': 0.033899953877936366,\n",
       " 'United_States_of_America': 0.06417560918485204,\n",
       " 'Austria': 0.009634967270785073,\n",
       " 'Belgium': 0.01898612531203543,\n",
       " 'Brazil': 0.004485142897805842,\n",
       " 'Canada': 0.017057725013276046,\n",
       " 'China': 0.05060997341912731,\n",
       " 'China,_Hong_Kong_SAR': 0.026993070442234035,\n",
       " 'China,_mainland': 0.032459839264804176,\n",
       " 'China,_Taiwan_Province_of': 0.011341028006212528,\n",
       " 'Denmark': 0.008226408066471886,\n",
       " 'Germany': 0.050003501563785434,\n",
       " 'India': 0.010345699698805978,\n",
       " 'Indonesia': 0.010792408482022635,\n",
       " 'Iran_(Islamic_Republic_of)': 0.0062139793922285505,\n",
       " 'Ireland': 0.00724752328327153,\n",
       " 'Italy': 0.029512261974113753,\n",
       " 'Japan': 0.044229472581138345,\n",
       " 'Lebanon': 0.006479360916685458,\n",
       " 'Malaysia': 0.010370885564234558,\n",
       " 'Netherlands': 0.0307670341774868,\n",
       " 'Philippines': 0.004107695608572641,\n",
       " 'Poland': 0.009880226037374778,\n",
       " 'Republic_of_Korea': 0.01635145744001561,\n",
       " 'Russian_Federation': 0.027623599920425297,\n",
       " 'Saudi_Arabia': 0.028914095269536314,\n",
       " 'Singapore': 0.01026145493970457,\n",
       " 'Spain': 0.01940693742119297,\n",
       " 'Sweden': 0.008691994570209496,\n",
       " 'Switzerland': 0.008199269008316539,\n",
       " 'Thailand': 0.006779812428326819,\n",
       " 'Turkey': 0.011647863483343077,\n",
       " 'Argentina': 0.001255879388336309,\n",
       " 'Bosnia_and_Herzegovina': 0.0034021363876799416,\n",
       " 'Bulgaria': 0.0031665545927089278,\n",
       " 'Colombia': 0.0024132944617729635,\n",
       " 'Croatia': 0.0030865675728257757,\n",
       " 'Cyprus': 0.001737340684375038,\n",
       " 'Czech_Republic': 0.006329593078416577,\n",
       " 'Greece': 0.0060572867834625685,\n",
       " 'Hungary': 0.004522021472628366,\n",
       " 'Israel': 0.00414716454164108,\n",
       " 'Kenya': 0.002931023590935784,\n",
       " 'Mexico': 0.00963635726424437,\n",
       " 'Morocco': 0.0032432398676241173,\n",
       " 'Norway': 0.005017576595738451,\n",
       " 'Romania': 0.0046101873595754085,\n",
       " 'Serbia': 0.0021975543310426542,\n",
       " 'Slovenia': 0.0031689558491099098,\n",
       " 'The_former_Yugoslav_Republic_of_Macedonia': 0.0014629319407172582,\n",
       " 'Uganda': 0.0014843247274852875,\n",
       " 'Chile': 0.0019896226604883853,\n",
       " 'Fiji': 0.0011199103707551067,\n",
       " 'Iceland': 0.001222712826878198,\n",
       " 'New_Zealand': 0.003119143214838951,\n",
       " 'Peru': 0.0017136020347349344,\n",
       " 'South_Africa': 0.004174525605949488,\n",
       " 'Sri_Lanka': 0.0028430727390308446,\n",
       " 'Trinidad_and_Tobago': 0.0018021947494124596,\n",
       " 'Zambia': 0.0011034250716178038,\n",
       " 'Armenia': 0.002260679315595494,\n",
       " 'Guyana': 0.0011983326380223904,\n",
       " 'Oman': 0.005346059936208913,\n",
       " 'Azerbaijan': 0.0028363704242406304,\n",
       " 'Bahrain': 0.005031649478792761,\n",
       " 'Cambodia': 0.0014412831533164184,\n",
       " 'China,_Macao_SAR': 0.013260286572476791,\n",
       " 'Jordan': 0.009894069357557189,\n",
       " 'Malta': 0.0011881747550196121,\n",
       " 'Mauritius': 0.0011896797851952733,\n",
       " 'Nepal': 0.001172063753739017,\n",
       " 'New_Caledonia': 0.000985272955261384,\n",
       " 'Qatar': 0.01009311036270847,\n",
       " 'Tonga': 0.000783916197912353,\n",
       " 'Vanuatu': 0.0008385951151409116,\n",
       " 'French_Polynesia': 0.0009665207393981644,\n",
       " 'Maldives': 0.0009154166543253496,\n",
       " 'Finland': 0.004901124528658968,\n",
       " 'Guatemala': 0.001760507156446987,\n",
       " 'Ukraine': 0.006689967428756823,\n",
       " 'Albania': 0.001722001737361902,\n",
       " 'Costa_Rica': 0.0014555834076747402,\n",
       " \"CÃ´te_d'Ivoire\": 0.001581810262417759,\n",
       " 'Ecuador': 0.0012650553582317344,\n",
       " 'Kyrgyzstan': 0.0021422685871724566,\n",
       " 'Lithuania': 0.00399155119239057,\n",
       " 'Luxembourg': 0.001914873203277133,\n",
       " 'Montenegro': 0.0013115545264037558,\n",
       " 'Portugal': 0.006745546759992213,\n",
       " 'Republic_of_Moldova': 0.0015042976780938566,\n",
       " 'Slovakia': 0.0039972281493247715,\n",
       " 'Syrian_Arab_Republic': 0.008197706476268564,\n",
       " 'Tunisia': 0.0024721599397547417,\n",
       " 'Estonia': 0.002266650395338318,\n",
       " 'Belarus': 0.005372668615882805,\n",
       " 'Latvia': 0.0029293877071317025,\n",
       " 'Barbados': 0.0015099765290340246,\n",
       " 'Gambia': 0.0012683193245410138,\n",
       " 'Cabo_Verde': 0.0008954245285609105,\n",
       " 'Cameroon': 0.0012867623617638495,\n",
       " 'Congo': 0.0014536534692182056,\n",
       " 'Ethiopia': 0.001621626194549525,\n",
       " 'Nicaragua': 0.0010213992907573833,\n",
       " 'Venezuela_(Bolivarian_Republic_of)': 0.002827048467433787,\n",
       " 'El_Salvador': 0.001494025537716302,\n",
       " 'Jamaica': 0.0019775254998902147,\n",
       " 'Madagascar': 0.001047968175251312,\n",
       " 'United_Republic_of_Tanzania': 0.0017583269542020786,\n",
       " 'Central_African_Republic': 0.0008461137802033729,\n",
       " 'Ghana': 0.0020606647326416247,\n",
       " 'Suriname': 0.0010969089017433431,\n",
       " 'Niger': 0.0010299699822325635,\n",
       " 'Rwanda': 0.0016609772634705558,\n",
       " 'Burkina_Faso': 0.0009587075319510583,\n",
       " 'Togo': 0.0008243560913039681,\n",
       " 'Saint_Vincent_and_the_Grenadines': 0.001021789307213747,\n",
       " 'Benin': 0.001019371257429331,\n",
       " 'Burundi': 0.0008350863456836444,\n",
       " 'Senegal': 0.001245185680077439,\n",
       " 'Mauritania': 0.001025252724219357,\n",
       " 'Bolivia_(Plurinational_State_of)': 0.0008010976059241795,\n",
       " 'Belize': 0.0008015102543712448,\n",
       " 'Malawi': 0.0017618818442215398,\n",
       " 'Aruba': 0.0011493768950305492,\n",
       " 'Botswana': 0.001155462792855659,\n",
       " 'Georgia': 0.002655923093643832,\n",
       " 'Zimbabwe': 0.004300439010003026,\n",
       " 'Bhutan': 0.0007582017791938081,\n",
       " 'Egypt': 0.0007009345794392524,\n",
       " 'Iraq': 0.0007009345794392524,\n",
       " 'Kazakhstan': 0.0007009345794392524,\n",
       " 'Tajikistan': 0.0007009345794392524,\n",
       " 'Turkmenistan': 0.0007009345794392524,\n",
       " 'United_Arab_Emirates': 0.0007009345794392524,\n",
       " 'Uzbekistan': 0.0007009345794392524,\n",
       " 'Viet_Nam': 0.0007009345794392524,\n",
       " 'Bahamas': 0.0007009345794392524,\n",
       " 'Comoros': 0.0007009345794392524,\n",
       " 'Cuba': 0.0007009345794392524,\n",
       " 'Dominica': 0.0007009345794392524,\n",
       " 'Dominican_Republic': 0.0007009345794392524,\n",
       " 'Panama': 0.0007009345794392524,\n",
       " 'Sao_Tome_and_Principe': 0.0007009345794392524,\n",
       " 'Unspecified': 0.0007009345794392524,\n",
       " 'Honduras': 0.0007009345794392524,\n",
       " 'Paraguay': 0.0007009345794392524,\n",
       " 'Sudan_(former)': 0.0007009345794392524,\n",
       " 'Uruguay': 0.0007009345794392524,\n",
       " 'Mali': 0.0007009345794392524,\n",
       " 'Nigeria': 0.0007230859760993736,\n",
       " 'Sierra_Leone': 0.0007009345794392524,\n",
       " 'Netherlands_Antilles': 0.0007009345794392524,\n",
       " 'American_Samoa': 0.0007009345794392524,\n",
       " 'Antigua_and_Barbuda': 0.0007009345794392524,\n",
       " 'Bangladesh': 0.0007009345794392524,\n",
       " 'Bermuda': 0.0007009345794392524,\n",
       " \"Democratic_People's_Republic_of_Korea\": 0.0007009345794392524,\n",
       " 'Democratic_Republic_of_the_Congo': 0.0007009345794392524,\n",
       " 'Eritrea': 0.0007009345794392524,\n",
       " 'Guinea': 0.0007009345794392524,\n",
       " \"Lao_People's_Democratic_Republic\": 0.0007009345794392524,\n",
       " 'Marshall_Islands': 0.0007009345794392524,\n",
       " 'Mongolia': 0.0007009345794392524,\n",
       " 'Mozambique': 0.0007009345794392524,\n",
       " 'Myanmar': 0.0007009345794392524,\n",
       " 'Namibia': 0.0007009345794392524,\n",
       " 'Saint_Lucia': 0.0007009345794392524,\n",
       " 'Samoa': 0.0007009345794392524,\n",
       " 'Swaziland': 0.0007009345794392524,\n",
       " 'Yemen': 0.0007009345794392524,\n",
       " 'Algeria': 0.0007009345794392524,\n",
       " 'Grenada': 0.0007009345794392524,\n",
       " 'Kuwait': 0.0007009345794392524,\n",
       " 'Somalia': 0.0007009345794392524,\n",
       " 'Saint_Kitts_and_Nevis': 0.0007009345794392524,\n",
       " 'Gabon': 0.0007009345794392524,\n",
       " 'Haiti': 0.0007009345794392524,\n",
       " 'Liberia': 0.0007009345794392524,\n",
       " 'Occupied_Palestinian_Territory': 0.0007009345794392524,\n",
       " 'British_Virgin_Islands': 0.0007009345794392524,\n",
       " 'Seychelles': 0.0007009345794392524,\n",
       " 'Guinea-Bissau': 0.0007009345794392524,\n",
       " 'Niue': 0.0007009345794392524,\n",
       " 'Chad': 0.0007009345794392524,\n",
       " 'Faroe_Islands': 0.0007009345794392524,\n",
       " 'Turks_and_Caicos_Islands': 0.0007009345794392524,\n",
       " 'Brunei_Darussalam': 0.0007009345794392524,\n",
       " 'Greenland': 0.0007009345794392524,\n",
       " 'Libya': 0.0007009345794392524,\n",
       " 'Micronesia_(Federated_States_of)': 0.0007009345794392524,\n",
       " 'Cayman_Islands': 0.0007009345794392524,\n",
       " 'Mayotte': 0.0007009345794392524,\n",
       " 'Papua_New_Guinea': 0.0007009345794392524,\n",
       " 'Angola': 0.0007009345794392524,\n",
       " 'Kiribati': 0.0007009345794392524,\n",
       " 'Tuvalu': 0.0007009345794392524,\n",
       " 'Djibouti': 0.0007009345794392524,\n",
       " 'Lesotho': 0.0007009345794392524,\n",
       " 'Timor-Leste': 0.0007009345794392524,\n",
       " 'Nauru': 0.0007009345794392524,\n",
       " 'Solomon_Islands': 0.0007009345794392524,\n",
       " 'Falkland_Islands_(Malvinas)': 0.0007009345794392524,\n",
       " 'Guam': 0.0007009345794392524,\n",
       " 'Cook_Islands': 0.0007009345794392524,\n",
       " 'Equatorial_Guinea': 0.0007009345794392524,\n",
       " 'Montserrat': 0.0007009345794392524,\n",
       " 'Saint_Pierre_and_Miquelon': 0.0007009345794392524,\n",
       " 'Palau': 0.0007009345794392524,\n",
       " 'Saint_Helena,_Ascension_and_Tristan_da_Cunha': 0.0007009345794392524,\n",
       " 'Andorra': 0.0007009345794392524}"
      ]
     },
     "execution_count": 226,
     "metadata": {},
     "output_type": "execute_result"
    }
   ],
   "source": [
    "nx.pagerank(all_layers_g)\n",
    "nx.pagerank(all_layers_g.reverse())"
   ]
  },
  {
   "attachments": {},
   "cell_type": "markdown",
   "metadata": {},
   "source": [
    "### Network non-randomness, degree distributions and models\n",
    "\n",
    "Given the centralities and the topological measures, which properties are explained by randomnness and which are not? Which network model may explain our network?"
   ]
  },
  {
   "cell_type": "code",
   "execution_count": null,
   "metadata": {},
   "outputs": [],
   "source": [
    "# calculate some expected properties (in a random network) and compare them with the actual ones\n",
    "\n",
    "p = topological[\"m\"]/pow(topological[\"n\"], 2)\n",
    "\n",
    "topological_expected = {} \n",
    "\n",
    "topological_expected[\"avg_in_degree\"] = topological_expected[\"avg_out_degree\"] = p*(topological[\"n\"]-1)\n",
    "topological_expected[\"avg_distance\"] = np.log(topological[\"n\"])/np.log(topological_expected[\"avg_out_degree\"])\n",
    "\n",
    "topological_expected[\"watts_strogatz_clustering\"] = \\\n",
    "    topological_expected[\"watts_strogatz_clustering_mutual_only\"] = \\\n",
    "    topological_expected[\"newmann_clustering\"] = \\\n",
    "    topological_expected[\"newmann_clustering_mutual_only\"] = p\n",
    "\n",
    "print(\"Expected vs actual avg in degree:\\t\", \n",
    "    round(topological_expected[\"avg_in_degree\"], 2), \n",
    "    round(topological[\"avg_in_degree\"], 2))\n",
    "print(\"Expected vs actual avg out degree:\\t\", \n",
    "    round(topological_expected[\"avg_out_degree\"], 2),\n",
    "    round(topological[\"avg_out_degree\"], 2))\n",
    "print(\"Expected vs actual avg distance:\\t\", \n",
    "    round(topological_expected[\"avg_distance\"], 2),\n",
    "    round(topological[\"avg_distance\"], 2))\n",
    "print(\"Expected vs actual Watts-Strogatz clustering:\\t\\t\\t\", \n",
    "    round(topological_expected[\"watts_strogatz_clustering\"], 2),\n",
    "    round(topological[\"watts_strogatz_clustering\"], 2))\n",
    "print(\"Expected vs actual Watts-Strogatz clustering (mutual only):\\t\", \n",
    "    round(topological_expected[\"watts_strogatz_clustering_mutual_only\"], 2),\n",
    "    round(topological[\"watts_strogatz_clustering_mutual_only\"], 2))\n",
    "print(\"Expected vs actual Newmann clustering:\\t\\t\\t\\t\", \n",
    "    round(topological_expected[\"newmann_clustering\"], 2),\n",
    "    round(topological[\"newmann_clustering\"], 2))\n",
    "print(\"Expected vs actual Newmann clustering (mutual only):\\t\\t\", \n",
    "    round(topological_expected[\"newmann_clustering_mutual_only\"], 2),\n",
    "    round(topological[\"newmann_clustering_mutual_only\"], 2))"
   ]
  }
 ],
 "metadata": {
  "kernelspec": {
   "display_name": ".venv",
   "language": "python",
   "name": "python3"
  },
  "language_info": {
   "codemirror_mode": {
    "name": "ipython",
    "version": 3
   },
   "file_extension": ".py",
   "mimetype": "text/x-python",
   "name": "python",
   "nbconvert_exporter": "python",
   "pygments_lexer": "ipython3",
   "version": "3.11.4"
  },
  "orig_nbformat": 4
 },
 "nbformat": 4,
 "nbformat_minor": 2
}
