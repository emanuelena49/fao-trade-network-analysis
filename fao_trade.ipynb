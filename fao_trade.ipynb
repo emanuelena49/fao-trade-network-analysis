{
 "cells": [
  {
   "cell_type": "code",
   "execution_count": 48,
   "metadata": {},
   "outputs": [],
   "source": [
    "import networkx as nx\n",
    "import pandas as pd\n",
    "from typing import List, Dict, Tuple\n",
    "import scipy as sp\n",
    "import numpy as np\n",
    "import math\n",
    "import matplotlib.pyplot as plt"
   ]
  },
  {
   "attachments": {},
   "cell_type": "markdown",
   "metadata": {},
   "source": [
    "## Data gathering and cleaning\n",
    "\n",
    "Our data is ...\n",
    "\n",
    "Source: https://networks.skewed.de/net/fao_trade"
   ]
  },
  {
   "attachments": {},
   "cell_type": "markdown",
   "metadata": {},
   "source": [
    "### Data gathering"
   ]
  },
  {
   "cell_type": "code",
   "execution_count": 49,
   "metadata": {},
   "outputs": [],
   "source": [
    "# target folder: where the data will be saved\n",
    "target = \"data/fao_trade\"\n",
    "\n",
    "# set it to True if you want to download the data\n",
    "# download_data = True\n",
    "download_data = False\n"
   ]
  },
  {
   "cell_type": "code",
   "execution_count": 50,
   "metadata": {},
   "outputs": [],
   "source": [
    "if download_data:\n",
    "\n",
    "    # data url source\n",
    "    url = \"https://networks.skewed.de/net/fao_trade/files/fao_trade.csv.zip\"\n",
    "\n",
    "    import urllib.request\n",
    "    import zipfile\n",
    "    import os\n",
    "\n",
    "    # Create the data directory\n",
    "    if not os.path.exists(\"data\"):\n",
    "        print(\"Creating data directory...\")\n",
    "        os.mkdir(\"data\")\n",
    "\n",
    "    # Download the data, unzip it and save it locally \n",
    "    print(f\"Dowloading data from {url}...\")\n",
    "    f, _ = urllib.request.urlretrieve(url)\n",
    "    print(\"Dowload OK!\")\n",
    "\n",
    "    with zipfile.ZipFile(f, 'r') as zip_ref:\n",
    "        print(\"Extracting zip file...\")\n",
    "        zip_ref.extractall(target)\n",
    "        print(\"Zip extraction OK!\")\n",
    "\n",
    "    print(f\"Operation completed! Your CSV data is available at {target}\")\n",
    "     "
   ]
  },
  {
   "attachments": {},
   "cell_type": "markdown",
   "metadata": {},
   "source": [
    "### Data extraction and cleaning"
   ]
  },
  {
   "attachments": {},
   "cell_type": "markdown",
   "metadata": {},
   "source": [
    "Our data is made by 3 CSV files, that can be extracted into two `pandas.DataFrame` and one key-value `dict`.\n",
    "\n",
    "1. `nodes` contains the list of countries and their attributes. Their only relevant attribute found in this dataset is the `name` of the country. The country name will be used as the node label.\n",
    "\n",
    "2. `edges` contains all the weighted directed edges between countries(`source` and `target`). Each edge is labeled with the `layer` of the trade, that thanks to `gprops.layer_key` could be associated to a specific commodity. The weight of the edge is the value of the trade. \n",
    "\n",
    "    Before going on, we replace all the numerical indexes with testual values (both for countries and commodities).\n",
    "\n",
    "3. `gprops` is a key-value which contains various meta-data, including the mapping between the `layer` and the commodity name.\n",
    "\n",
    "NOTE: you may observe that our data does not describe a simple graph, but a multi-graph (a pair of nodes may have more than two directed edge between them). This is due to the fact that this dataset describes the trade of more than one commodity. We will see later how to deal with this.\n",
    "\n",
    "Now we extract the data from CSV files, we clean it and then we will plot the head of the two `pandas.DataFrame` `nodes` and `edges`."
   ]
  },
  {
   "cell_type": "code",
   "execution_count": 51,
   "metadata": {},
   "outputs": [],
   "source": [
    "# --------------------------------------------------\n",
    "# Extract nodes (as dataframe)\n",
    "\n",
    "nodes = pd.read_csv(target + \"/nodes.csv\")\n",
    "nodes.columns = nodes.columns.str.replace(\" \", \"\")\n",
    "nodes.columns = nodes.columns.str.replace(\"#\", \"\")\n",
    "nodes = nodes.set_index(\"index\")\n",
    "\n",
    "# drop redundant data\n",
    "nodes = nodes.drop([\"nodeLabel\", \"_pos\"], axis=\"columns\",)\n",
    "\n",
    "# --------------------------------------------------\n",
    "# Extract edges (as dataframe)\n",
    "\n",
    "edges = pd.read_csv(target + \"/edges.csv\")\n",
    "edges.columns = edges.columns.str.replace(\" \", \"\")\n",
    "edges.columns = edges.columns.str.replace(\"#\", \"\")\n",
    "\n",
    "# --------------------------------------------------\n",
    "# Extract various graph properties (as dict)\n",
    "\n",
    "gprops_df = pd.read_csv(target + \"/gprops.csv\", on_bad_lines='skip')\n",
    "gprops_df.columns = gprops_df.columns.str.replace(\" \", \"\")\n",
    "gprops_df.columns = gprops_df.columns.str.replace(\"#\", \"\")\n",
    "\n",
    "# make a dict object out of the gprops dataframe\n",
    "gprops = gprops_df.set_index(\"prop_name\").to_dict()[\"value\"]\n",
    "\n",
    "# extract the layers keys (as a dict)\n",
    "layer_keys = {}\n",
    "for item in gprops[\"layer_key\"] \\\n",
    "    .replace(\" \", \"\").replace(\"\\n\", \"\") \\\n",
    "    .replace(\"{\", \"\").replace(\"}\", \"\") \\\n",
    "    .split(\"',\"):\n",
    "\n",
    "    keyvalue = item.split(\":'\")\n",
    "    layer_keys[int(keyvalue[0])] = keyvalue[1]\n",
    "\n",
    "gprops[\"layer_key\"] = layer_keys\n",
    "\n",
    "del layer_keys, gprops_df\n",
    "\n",
    "# --------------------------------------------------\n",
    "# replace numeric index with textual names\n",
    "\n",
    "# replace country indexes in edges\n",
    "edges[\"source\"] = edges[\"source\"].map(nodes[\"name\"])\n",
    "edges[\"target\"] = edges[\"target\"].map(nodes[\"name\"])\n",
    "\n",
    "# replace commodity indexes in edges\n",
    "edges[\"layer\"] = edges[\"layer\"].map(gprops[\"layer_key\"])\n",
    "\n",
    "# set country name as node index\n",
    "nodes = nodes.set_index(\"name\")"
   ]
  },
  {
   "cell_type": "code",
   "execution_count": 52,
   "metadata": {},
   "outputs": [
    {
     "data": {
      "text/html": [
       "<div>\n",
       "<style scoped>\n",
       "    .dataframe tbody tr th:only-of-type {\n",
       "        vertical-align: middle;\n",
       "    }\n",
       "\n",
       "    .dataframe tbody tr th {\n",
       "        vertical-align: top;\n",
       "    }\n",
       "\n",
       "    .dataframe thead th {\n",
       "        text-align: right;\n",
       "    }\n",
       "</style>\n",
       "<table border=\"1\" class=\"dataframe\">\n",
       "  <thead>\n",
       "    <tr style=\"text-align: right;\">\n",
       "      <th></th>\n",
       "    </tr>\n",
       "    <tr>\n",
       "      <th>name</th>\n",
       "    </tr>\n",
       "  </thead>\n",
       "  <tbody>\n",
       "    <tr>\n",
       "      <th>Afghanistan</th>\n",
       "    </tr>\n",
       "    <tr>\n",
       "      <th>Australia</th>\n",
       "    </tr>\n",
       "    <tr>\n",
       "      <th>Austria</th>\n",
       "    </tr>\n",
       "    <tr>\n",
       "      <th>Belgium</th>\n",
       "    </tr>\n",
       "    <tr>\n",
       "      <th>Brazil</th>\n",
       "    </tr>\n",
       "  </tbody>\n",
       "</table>\n",
       "</div>"
      ],
      "text/plain": [
       "Empty DataFrame\n",
       "Columns: []\n",
       "Index: [Afghanistan, Australia, Austria, Belgium, Brazil]"
      ]
     },
     "execution_count": 52,
     "metadata": {},
     "output_type": "execute_result"
    }
   ],
   "source": [
    "nodes.head()"
   ]
  },
  {
   "cell_type": "code",
   "execution_count": 53,
   "metadata": {},
   "outputs": [
    {
     "data": {
      "text/html": [
       "<div>\n",
       "<style scoped>\n",
       "    .dataframe tbody tr th:only-of-type {\n",
       "        vertical-align: middle;\n",
       "    }\n",
       "\n",
       "    .dataframe tbody tr th {\n",
       "        vertical-align: top;\n",
       "    }\n",
       "\n",
       "    .dataframe thead th {\n",
       "        text-align: right;\n",
       "    }\n",
       "</style>\n",
       "<table border=\"1\" class=\"dataframe\">\n",
       "  <thead>\n",
       "    <tr style=\"text-align: right;\">\n",
       "      <th></th>\n",
       "      <th>source</th>\n",
       "      <th>target</th>\n",
       "      <th>weight</th>\n",
       "      <th>layer</th>\n",
       "    </tr>\n",
       "  </thead>\n",
       "  <tbody>\n",
       "    <tr>\n",
       "      <th>0</th>\n",
       "      <td>Afghanistan</td>\n",
       "      <td>Australia</td>\n",
       "      <td>6</td>\n",
       "      <td>Food_prep_nes</td>\n",
       "    </tr>\n",
       "    <tr>\n",
       "      <th>1</th>\n",
       "      <td>Afghanistan</td>\n",
       "      <td>France</td>\n",
       "      <td>14</td>\n",
       "      <td>Food_prep_nes</td>\n",
       "    </tr>\n",
       "    <tr>\n",
       "      <th>2</th>\n",
       "      <td>Afghanistan</td>\n",
       "      <td>Pakistan</td>\n",
       "      <td>1</td>\n",
       "      <td>Food_prep_nes</td>\n",
       "    </tr>\n",
       "    <tr>\n",
       "      <th>3</th>\n",
       "      <td>Afghanistan</td>\n",
       "      <td>United_Kingdom</td>\n",
       "      <td>13</td>\n",
       "      <td>Food_prep_nes</td>\n",
       "    </tr>\n",
       "    <tr>\n",
       "      <th>4</th>\n",
       "      <td>Afghanistan</td>\n",
       "      <td>United_States_of_America</td>\n",
       "      <td>3</td>\n",
       "      <td>Food_prep_nes</td>\n",
       "    </tr>\n",
       "  </tbody>\n",
       "</table>\n",
       "</div>"
      ],
      "text/plain": [
       "        source                    target  weight          layer\n",
       "0  Afghanistan                 Australia       6  Food_prep_nes\n",
       "1  Afghanistan                    France      14  Food_prep_nes\n",
       "2  Afghanistan                  Pakistan       1  Food_prep_nes\n",
       "3  Afghanistan            United_Kingdom      13  Food_prep_nes\n",
       "4  Afghanistan  United_States_of_America       3  Food_prep_nes"
      ]
     },
     "execution_count": 53,
     "metadata": {},
     "output_type": "execute_result"
    }
   ],
   "source": [
    "edges.head()"
   ]
  },
  {
   "cell_type": "code",
   "execution_count": 54,
   "metadata": {},
   "outputs": [
    {
     "data": {
      "text/html": [
       "<div>\n",
       "<style scoped>\n",
       "    .dataframe tbody tr th:only-of-type {\n",
       "        vertical-align: middle;\n",
       "    }\n",
       "\n",
       "    .dataframe tbody tr th {\n",
       "        vertical-align: top;\n",
       "    }\n",
       "\n",
       "    .dataframe thead th {\n",
       "        text-align: right;\n",
       "    }\n",
       "</style>\n",
       "<table border=\"1\" class=\"dataframe\">\n",
       "  <thead>\n",
       "    <tr style=\"text-align: right;\">\n",
       "      <th></th>\n",
       "      <th>source</th>\n",
       "      <th>target</th>\n",
       "      <th>weight</th>\n",
       "      <th>layer</th>\n",
       "    </tr>\n",
       "  </thead>\n",
       "  <tbody>\n",
       "    <tr>\n",
       "      <th>0</th>\n",
       "      <td>Afghanistan</td>\n",
       "      <td>Australia</td>\n",
       "      <td>6</td>\n",
       "      <td>Food_prep_nes</td>\n",
       "    </tr>\n",
       "    <tr>\n",
       "      <th>18</th>\n",
       "      <td>Afghanistan</td>\n",
       "      <td>Australia</td>\n",
       "      <td>1</td>\n",
       "      <td>Flour,_wheat</td>\n",
       "    </tr>\n",
       "    <tr>\n",
       "      <th>27</th>\n",
       "      <td>Afghanistan</td>\n",
       "      <td>Australia</td>\n",
       "      <td>8</td>\n",
       "      <td>Crude_materials</td>\n",
       "    </tr>\n",
       "    <tr>\n",
       "      <th>47</th>\n",
       "      <td>Afghanistan</td>\n",
       "      <td>Australia</td>\n",
       "      <td>8</td>\n",
       "      <td>Fruit,_prepared_nes</td>\n",
       "    </tr>\n",
       "    <tr>\n",
       "      <th>141</th>\n",
       "      <td>Afghanistan</td>\n",
       "      <td>Australia</td>\n",
       "      <td>2</td>\n",
       "      <td>Nuts,_prepared_(exc._groundnuts)</td>\n",
       "    </tr>\n",
       "    <tr>\n",
       "      <th>185</th>\n",
       "      <td>Afghanistan</td>\n",
       "      <td>Australia</td>\n",
       "      <td>3</td>\n",
       "      <td>Sugar_confectionery</td>\n",
       "    </tr>\n",
       "    <tr>\n",
       "      <th>211</th>\n",
       "      <td>Afghanistan</td>\n",
       "      <td>Australia</td>\n",
       "      <td>33</td>\n",
       "      <td>Raisins</td>\n",
       "    </tr>\n",
       "  </tbody>\n",
       "</table>\n",
       "</div>"
      ],
      "text/plain": [
       "          source     target  weight                             layer\n",
       "0    Afghanistan  Australia       6                     Food_prep_nes\n",
       "18   Afghanistan  Australia       1                      Flour,_wheat\n",
       "27   Afghanistan  Australia       8                   Crude_materials\n",
       "47   Afghanistan  Australia       8               Fruit,_prepared_nes\n",
       "141  Afghanistan  Australia       2  Nuts,_prepared_(exc._groundnuts)\n",
       "185  Afghanistan  Australia       3               Sugar_confectionery\n",
       "211  Afghanistan  Australia      33                           Raisins"
      ]
     },
     "execution_count": 54,
     "metadata": {},
     "output_type": "execute_result"
    }
   ],
   "source": [
    "# show that there is more than one layer\n",
    "edges[\n",
    "    edges[\"source\"].isin(['Afghanistan']) &\n",
    "    edges[\"target\"].isin(['Australia'])\n",
    "]"
   ]
  },
  {
   "cell_type": "code",
   "execution_count": 85,
   "metadata": {},
   "outputs": [
    {
     "data": {
      "text/plain": [
       "364"
      ]
     },
     "execution_count": 85,
     "metadata": {},
     "output_type": "execute_result"
    }
   ],
   "source": [
    "# number of layers\n",
    "len(edges[\"layer\"].unique())"
   ]
  },
  {
   "attachments": {},
   "cell_type": "markdown",
   "metadata": {},
   "source": [
    "## Graph building\n",
    "\n",
    "Here, in this section, we will build the graph from the data extracted in the previous section. We will also propose some solutions to deal the multi-layer problem."
   ]
  },
  {
   "attachments": {},
   "cell_type": "markdown",
   "metadata": {},
   "source": [
    "### Deal the multi-layer problem\n",
    "\n",
    "We propose three approaches to deal with the multi-layer problem:\n",
    "\n",
    "1. First approach is a naive \"filter and merge\". If we are interested in analizing how the global trade works for some commodities, we can simply\n",
    "   1. select only the edges that are related to the commodities we are interested in\n",
    "   2. aggregate them by summing the weights of the edges between the same pair of nodes\n",
    "\n",
    "    This way we obtain an unique aggregated directed and weighted graph, where each pair of nodes has at most two directed edges between them (one for each direction).\n",
    "\n",
    "    If we are interested in analizing how the global trade works for all the commodities, we can simply keep all the edges and aggregate them.\n",
    "\n",
    "2. Second approach is to build more graphs and then compare them. This approach may be useful if we want to compare differet commodities trades. Comparison may be done:\n",
    "   1. comparing (normalized) topological and centrality indexes (also consiedering distribution)\n",
    "   2. comparing different meso-scale structures with correlation indexes\n",
    "   3. making visual comparison between matrixes plots\n",
    "\n",
    "    We can also combine this approach with the first one to compare several \"subsets\" of the global trade.\n",
    "\n",
    "3. Third approach is more peculiar. As discussed in https://www.nature.com/articles/ncomms7864, in a multi-layer graph, some layers are more similar or dissimilar than others; for this reason, aggregating dissimilar layer may introduce artificial structures that may be misleading. For this reason the article proposes an information theory based method to aggregate several layers withouth loosing too much information. Briefly, the article implement a sort of hierarchical clustering on the layers, where at each step you aggregate layers with similar import-export paths.\n",
    "\n",
    "    This approach permits to obtain a smaller subset of relevant aggregated layers, that can be used to build a smaller number or comparable graphs.\n",
    "\n",
    "In this notebook we will implement the first approach on the whole dataset. Then we will select some sample layers to make some comparisons."
   ]
  },
  {
   "attachments": {},
   "cell_type": "markdown",
   "metadata": {},
   "source": [
    "### Build layers graphs\n",
    "\n",
    "We start building a graph foreach layer. Then we also implement a function to merge graphs."
   ]
  },
  {
   "cell_type": "code",
   "execution_count": 89,
   "metadata": {},
   "outputs": [],
   "source": [
    "# extract the layers graphs \n",
    "def create_layers_graphs(edges: pd.DataFrame) -> Dict[str, nx.DiGraph]:\n",
    "    \"\"\"\n",
    "    Create a dict of all graphs, one for each layer\n",
    "    \"\"\"\n",
    "\n",
    "    layers_m = {}\n",
    "    for layer in edges[\"layer\"].unique():\n",
    "        layers_m[layer] = nx.from_pandas_edgelist(\n",
    "            edges[edges[\"layer\"] == layer],\n",
    "            source=\"source\",\n",
    "            target=\"target\",\n",
    "            edge_attr=\"weight\",\n",
    "            create_using=nx.DiGraph\n",
    "        )\n",
    "    return layers_m\n",
    "\n",
    "layers_g = create_layers_graphs(edges)"
   ]
  },
  {
   "cell_type": "code",
   "execution_count": 98,
   "metadata": {},
   "outputs": [],
   "source": [
    "def merge_weighted_graphs(G, H):\n",
    "    \"\"\"\n",
    "    Merge two weighted graphs summing the weights of the edges in common.\n",
    "    \"\"\"\n",
    "\n",
    "    g = nx.compose(G, H)\n",
    "    edge_data = { e: G.edges[e]['weight'] + H.edges[e]['weight'] for e in G.edges & H.edges }\n",
    "    nx.set_edge_attributes(g, edge_data, 'weight')\n",
    "    return g\n",
    "\n",
    "# merge all layers into a single graph\n",
    "layers_names = list(layers_g.keys())\n",
    "all_layers_g = layers_g[layers_names[0]]\n",
    "for layer in layers_names[1:]:\n",
    "    all_layers_g = merge_weighted_graphs(all_layers_g, layers_g[layer])\n"
   ]
  },
  {
   "attachments": {},
   "cell_type": "markdown",
   "metadata": {},
   "source": [
    "## Analysis on the whole dataset graph\n",
    "\n",
    "Now we perform an analysis on the whole dataset graph (the one where all the layers are aggregated). \n",
    "\n",
    "This analaysis includes:\n",
    "- an overview of the graph, with some simple topological indexes\n",
    "- a calculation of some centrality indexes, an analysis of their distribution and a comparison between them\n",
    "- ..."
   ]
  },
  {
   "attachments": {},
   "cell_type": "markdown",
   "metadata": {},
   "source": [
    "### Graph overview"
   ]
  },
  {
   "cell_type": "code",
   "execution_count": 107,
   "metadata": {},
   "outputs": [
    {
     "name": "stdout",
     "output_type": "stream",
     "text": [
      "Nr. of nodes (Size): 214\n",
      "Nr. of directed edges (Volume): 13736\n",
      "Total weight of directed edges/2: 554747408.5\n",
      "Density: 0.3013\n"
     ]
    }
   ],
   "source": [
    "n = len(all_layers_g.nodes)\n",
    "m = len(all_layers_g.edges)\n",
    "\n",
    "print(f\"Nr. of nodes (Size): {n}\")\n",
    "print(f\"Nr. of directed edges (Volume): {m}\")\n",
    "print(f\"Total weight of directed edges/2: {sum([all_layers_g.edges[e]['weight'] for e in all_layers_g.edges])/2}\")\n",
    "print(f\"Density: {round(m/(n*(n-1)), 4)}\")\n"
   ]
  },
  {
   "cell_type": "code",
   "execution_count": 111,
   "metadata": {},
   "outputs": [
    {
     "ename": "ModuleNotFoundError",
     "evalue": "No module named 'matplotlib'",
     "output_type": "error",
     "traceback": [
      "\u001b[1;31m---------------------------------------------------------------------------\u001b[0m",
      "\u001b[1;31mModuleNotFoundError\u001b[0m                       Traceback (most recent call last)",
      "Cell \u001b[1;32mIn[111], line 1\u001b[0m\n\u001b[1;32m----> 1\u001b[0m nx\u001b[39m.\u001b[39;49mdraw(all_layers_g)\n",
      "File \u001b[1;32mc:\\Users\\Proprietario\\Desktop\\codici git\\ADS_trade\\.venv\\Lib\\site-packages\\networkx\\drawing\\nx_pylab.py:105\u001b[0m, in \u001b[0;36mdraw\u001b[1;34m(G, pos, ax, **kwds)\u001b[0m\n\u001b[0;32m     49\u001b[0m \u001b[39mdef\u001b[39;00m \u001b[39mdraw\u001b[39m(G, pos\u001b[39m=\u001b[39m\u001b[39mNone\u001b[39;00m, ax\u001b[39m=\u001b[39m\u001b[39mNone\u001b[39;00m, \u001b[39m*\u001b[39m\u001b[39m*\u001b[39mkwds):\n\u001b[0;32m     50\u001b[0m \u001b[39m    \u001b[39m\u001b[39m\"\"\"Draw the graph G with Matplotlib.\u001b[39;00m\n\u001b[0;32m     51\u001b[0m \n\u001b[0;32m     52\u001b[0m \u001b[39m    Draw the graph as a simple representation with no node\u001b[39;00m\n\u001b[1;32m   (...)\u001b[0m\n\u001b[0;32m    103\u001b[0m \u001b[39m    https://networkx.org/documentation/latest/auto_examples/index.html\u001b[39;00m\n\u001b[0;32m    104\u001b[0m \u001b[39m    \"\"\"\u001b[39;00m\n\u001b[1;32m--> 105\u001b[0m     \u001b[39mimport\u001b[39;00m \u001b[39mmatplotlib\u001b[39;00m\u001b[39m.\u001b[39;00m\u001b[39mpyplot\u001b[39;00m \u001b[39mas\u001b[39;00m \u001b[39mplt\u001b[39;00m\n\u001b[0;32m    107\u001b[0m     \u001b[39mif\u001b[39;00m ax \u001b[39mis\u001b[39;00m \u001b[39mNone\u001b[39;00m:\n\u001b[0;32m    108\u001b[0m         cf \u001b[39m=\u001b[39m plt\u001b[39m.\u001b[39mgcf()\n",
      "\u001b[1;31mModuleNotFoundError\u001b[0m: No module named 'matplotlib'"
     ]
    }
   ],
   "source": [
    "nx.draw(all_layers_g)"
   ]
  },
  {
   "attachments": {},
   "cell_type": "markdown",
   "metadata": {},
   "source": [
    "### Build a network"
   ]
  }
 ],
 "metadata": {
  "kernelspec": {
   "display_name": ".venv",
   "language": "python",
   "name": "python3"
  },
  "language_info": {
   "codemirror_mode": {
    "name": "ipython",
    "version": 3
   },
   "file_extension": ".py",
   "mimetype": "text/x-python",
   "name": "python",
   "nbconvert_exporter": "python",
   "pygments_lexer": "ipython3",
   "version": "3.11.4"
  },
  "orig_nbformat": 4
 },
 "nbformat": 4,
 "nbformat_minor": 2
}
